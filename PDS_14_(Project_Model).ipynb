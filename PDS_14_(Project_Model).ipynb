{
  "cells": [
    {
      "cell_type": "markdown",
      "source": [
        "# **PDS Project Model**\n",
        "\n",
        "Deployed using **Streamlit**"
      ],
      "metadata": {
        "id": "iSDygtgvhmcY"
      }
    },
    {
      "cell_type": "code",
      "source": [
        "from google.colab import drive\n",
        "drive.mount('/content/drive')"
      ],
      "metadata": {
        "colab": {
          "base_uri": "https://localhost:8080/"
        },
        "id": "4ysnLRdpnvIP",
        "outputId": "ac68336f-e38e-4277-de05-6f3618bd09b1"
      },
      "execution_count": 1,
      "outputs": [
        {
          "output_type": "stream",
          "name": "stdout",
          "text": [
            "Mounted at /content/drive\n"
          ]
        }
      ]
    },
    {
      "cell_type": "code",
      "execution_count": 2,
      "metadata": {
        "id": "BT4uhuXXnYv2"
      },
      "outputs": [],
      "source": [
        "import pandas as pd\n",
        "import numpy as np"
      ]
    },
    {
      "cell_type": "code",
      "execution_count": 3,
      "metadata": {
        "colab": {
          "base_uri": "https://localhost:8080/",
          "height": 625
        },
        "id": "YY-r3gbynYv6",
        "outputId": "1b164f3b-285e-4b52-cc62-ad36851945dd"
      },
      "outputs": [
        {
          "output_type": "execute_result",
          "data": {
            "text/plain": [
              "   Unnamed: 0.2  Unnamed: 0.1  Unnamed: 0  \\\n",
              "0             0             0           0   \n",
              "1             2             2           2   \n",
              "2             4             4           4   \n",
              "3             7             7           7   \n",
              "4             9             9           9   \n",
              "\n",
              "                                                text                 date  \\\n",
              "0  yuan clearing service officially launched in a...  2022-11-09 23:34:00   \n",
              "1                                   simulating speed  2022-11-08 22:56:00   \n",
              "2  china and latin america have more and more com...  2022-11-09 21:51:00   \n",
              "3  tackling climate change china and asean are im...  2022-11-07 16:12:00   \n",
              "4  chinalaos railway a vivid example of highquali...  2022-11-07 19:40:00   \n",
              "\n",
              "        source  month  year  BRIscore BRIsentiment  \\\n",
              "0  globaltimes     11  2022    0.7351     Positive   \n",
              "1  globaltimes     11  2022    0.4215     Positive   \n",
              "2  globaltimes     11  2022    0.5994     Positive   \n",
              "3  globaltimes     11  2022    0.4404     Positive   \n",
              "4  globaltimes     11  2022    0.9299     Positive   \n",
              "\n",
              "                                      tokenized_text  \n",
              "0  ['yuan', 'clearing', 'service', 'officially', ...  \n",
              "1                            ['simulating', 'speed']  \n",
              "2  ['china', 'latin', 'america', 'common', 'langu...  \n",
              "3  ['tackling', 'climate', 'change', 'china', 'as...  \n",
              "4  ['chinalaos', 'railway', 'vivid', 'example', '...  "
            ],
            "text/html": [
              "\n",
              "  <div id=\"df-5ab7485d-bee7-4a75-8778-2b76525c668b\" class=\"colab-df-container\">\n",
              "    <div>\n",
              "<style scoped>\n",
              "    .dataframe tbody tr th:only-of-type {\n",
              "        vertical-align: middle;\n",
              "    }\n",
              "\n",
              "    .dataframe tbody tr th {\n",
              "        vertical-align: top;\n",
              "    }\n",
              "\n",
              "    .dataframe thead th {\n",
              "        text-align: right;\n",
              "    }\n",
              "</style>\n",
              "<table border=\"1\" class=\"dataframe\">\n",
              "  <thead>\n",
              "    <tr style=\"text-align: right;\">\n",
              "      <th></th>\n",
              "      <th>Unnamed: 0.2</th>\n",
              "      <th>Unnamed: 0.1</th>\n",
              "      <th>Unnamed: 0</th>\n",
              "      <th>text</th>\n",
              "      <th>date</th>\n",
              "      <th>source</th>\n",
              "      <th>month</th>\n",
              "      <th>year</th>\n",
              "      <th>BRIscore</th>\n",
              "      <th>BRIsentiment</th>\n",
              "      <th>tokenized_text</th>\n",
              "    </tr>\n",
              "  </thead>\n",
              "  <tbody>\n",
              "    <tr>\n",
              "      <th>0</th>\n",
              "      <td>0</td>\n",
              "      <td>0</td>\n",
              "      <td>0</td>\n",
              "      <td>yuan clearing service officially launched in a...</td>\n",
              "      <td>2022-11-09 23:34:00</td>\n",
              "      <td>globaltimes</td>\n",
              "      <td>11</td>\n",
              "      <td>2022</td>\n",
              "      <td>0.7351</td>\n",
              "      <td>Positive</td>\n",
              "      <td>['yuan', 'clearing', 'service', 'officially', ...</td>\n",
              "    </tr>\n",
              "    <tr>\n",
              "      <th>1</th>\n",
              "      <td>2</td>\n",
              "      <td>2</td>\n",
              "      <td>2</td>\n",
              "      <td>simulating speed</td>\n",
              "      <td>2022-11-08 22:56:00</td>\n",
              "      <td>globaltimes</td>\n",
              "      <td>11</td>\n",
              "      <td>2022</td>\n",
              "      <td>0.4215</td>\n",
              "      <td>Positive</td>\n",
              "      <td>['simulating', 'speed']</td>\n",
              "    </tr>\n",
              "    <tr>\n",
              "      <th>2</th>\n",
              "      <td>4</td>\n",
              "      <td>4</td>\n",
              "      <td>4</td>\n",
              "      <td>china and latin america have more and more com...</td>\n",
              "      <td>2022-11-09 21:51:00</td>\n",
              "      <td>globaltimes</td>\n",
              "      <td>11</td>\n",
              "      <td>2022</td>\n",
              "      <td>0.5994</td>\n",
              "      <td>Positive</td>\n",
              "      <td>['china', 'latin', 'america', 'common', 'langu...</td>\n",
              "    </tr>\n",
              "    <tr>\n",
              "      <th>3</th>\n",
              "      <td>7</td>\n",
              "      <td>7</td>\n",
              "      <td>7</td>\n",
              "      <td>tackling climate change china and asean are im...</td>\n",
              "      <td>2022-11-07 16:12:00</td>\n",
              "      <td>globaltimes</td>\n",
              "      <td>11</td>\n",
              "      <td>2022</td>\n",
              "      <td>0.4404</td>\n",
              "      <td>Positive</td>\n",
              "      <td>['tackling', 'climate', 'change', 'china', 'as...</td>\n",
              "    </tr>\n",
              "    <tr>\n",
              "      <th>4</th>\n",
              "      <td>9</td>\n",
              "      <td>9</td>\n",
              "      <td>9</td>\n",
              "      <td>chinalaos railway a vivid example of highquali...</td>\n",
              "      <td>2022-11-07 19:40:00</td>\n",
              "      <td>globaltimes</td>\n",
              "      <td>11</td>\n",
              "      <td>2022</td>\n",
              "      <td>0.9299</td>\n",
              "      <td>Positive</td>\n",
              "      <td>['chinalaos', 'railway', 'vivid', 'example', '...</td>\n",
              "    </tr>\n",
              "  </tbody>\n",
              "</table>\n",
              "</div>\n",
              "    <div class=\"colab-df-buttons\">\n",
              "\n",
              "  <div class=\"colab-df-container\">\n",
              "    <button class=\"colab-df-convert\" onclick=\"convertToInteractive('df-5ab7485d-bee7-4a75-8778-2b76525c668b')\"\n",
              "            title=\"Convert this dataframe to an interactive table.\"\n",
              "            style=\"display:none;\">\n",
              "\n",
              "  <svg xmlns=\"http://www.w3.org/2000/svg\" height=\"24px\" viewBox=\"0 -960 960 960\">\n",
              "    <path d=\"M120-120v-720h720v720H120Zm60-500h600v-160H180v160Zm220 220h160v-160H400v160Zm0 220h160v-160H400v160ZM180-400h160v-160H180v160Zm440 0h160v-160H620v160ZM180-180h160v-160H180v160Zm440 0h160v-160H620v160Z\"/>\n",
              "  </svg>\n",
              "    </button>\n",
              "\n",
              "  <style>\n",
              "    .colab-df-container {\n",
              "      display:flex;\n",
              "      gap: 12px;\n",
              "    }\n",
              "\n",
              "    .colab-df-convert {\n",
              "      background-color: #E8F0FE;\n",
              "      border: none;\n",
              "      border-radius: 50%;\n",
              "      cursor: pointer;\n",
              "      display: none;\n",
              "      fill: #1967D2;\n",
              "      height: 32px;\n",
              "      padding: 0 0 0 0;\n",
              "      width: 32px;\n",
              "    }\n",
              "\n",
              "    .colab-df-convert:hover {\n",
              "      background-color: #E2EBFA;\n",
              "      box-shadow: 0px 1px 2px rgba(60, 64, 67, 0.3), 0px 1px 3px 1px rgba(60, 64, 67, 0.15);\n",
              "      fill: #174EA6;\n",
              "    }\n",
              "\n",
              "    .colab-df-buttons div {\n",
              "      margin-bottom: 4px;\n",
              "    }\n",
              "\n",
              "    [theme=dark] .colab-df-convert {\n",
              "      background-color: #3B4455;\n",
              "      fill: #D2E3FC;\n",
              "    }\n",
              "\n",
              "    [theme=dark] .colab-df-convert:hover {\n",
              "      background-color: #434B5C;\n",
              "      box-shadow: 0px 1px 3px 1px rgba(0, 0, 0, 0.15);\n",
              "      filter: drop-shadow(0px 1px 2px rgba(0, 0, 0, 0.3));\n",
              "      fill: #FFFFFF;\n",
              "    }\n",
              "  </style>\n",
              "\n",
              "    <script>\n",
              "      const buttonEl =\n",
              "        document.querySelector('#df-5ab7485d-bee7-4a75-8778-2b76525c668b button.colab-df-convert');\n",
              "      buttonEl.style.display =\n",
              "        google.colab.kernel.accessAllowed ? 'block' : 'none';\n",
              "\n",
              "      async function convertToInteractive(key) {\n",
              "        const element = document.querySelector('#df-5ab7485d-bee7-4a75-8778-2b76525c668b');\n",
              "        const dataTable =\n",
              "          await google.colab.kernel.invokeFunction('convertToInteractive',\n",
              "                                                    [key], {});\n",
              "        if (!dataTable) return;\n",
              "\n",
              "        const docLinkHtml = 'Like what you see? Visit the ' +\n",
              "          '<a target=\"_blank\" href=https://colab.research.google.com/notebooks/data_table.ipynb>data table notebook</a>'\n",
              "          + ' to learn more about interactive tables.';\n",
              "        element.innerHTML = '';\n",
              "        dataTable['output_type'] = 'display_data';\n",
              "        await google.colab.output.renderOutput(dataTable, element);\n",
              "        const docLink = document.createElement('div');\n",
              "        docLink.innerHTML = docLinkHtml;\n",
              "        element.appendChild(docLink);\n",
              "      }\n",
              "    </script>\n",
              "  </div>\n",
              "\n",
              "\n",
              "<div id=\"df-4e31002e-27e8-44ce-b000-678620b81a57\">\n",
              "  <button class=\"colab-df-quickchart\" onclick=\"quickchart('df-4e31002e-27e8-44ce-b000-678620b81a57')\"\n",
              "            title=\"Suggest charts.\"\n",
              "            style=\"display:none;\">\n",
              "\n",
              "<svg xmlns=\"http://www.w3.org/2000/svg\" height=\"24px\"viewBox=\"0 0 24 24\"\n",
              "     width=\"24px\">\n",
              "    <g>\n",
              "        <path d=\"M19 3H5c-1.1 0-2 .9-2 2v14c0 1.1.9 2 2 2h14c1.1 0 2-.9 2-2V5c0-1.1-.9-2-2-2zM9 17H7v-7h2v7zm4 0h-2V7h2v10zm4 0h-2v-4h2v4z\"/>\n",
              "    </g>\n",
              "</svg>\n",
              "  </button>\n",
              "\n",
              "<style>\n",
              "  .colab-df-quickchart {\n",
              "      --bg-color: #E8F0FE;\n",
              "      --fill-color: #1967D2;\n",
              "      --hover-bg-color: #E2EBFA;\n",
              "      --hover-fill-color: #174EA6;\n",
              "      --disabled-fill-color: #AAA;\n",
              "      --disabled-bg-color: #DDD;\n",
              "  }\n",
              "\n",
              "  [theme=dark] .colab-df-quickchart {\n",
              "      --bg-color: #3B4455;\n",
              "      --fill-color: #D2E3FC;\n",
              "      --hover-bg-color: #434B5C;\n",
              "      --hover-fill-color: #FFFFFF;\n",
              "      --disabled-bg-color: #3B4455;\n",
              "      --disabled-fill-color: #666;\n",
              "  }\n",
              "\n",
              "  .colab-df-quickchart {\n",
              "    background-color: var(--bg-color);\n",
              "    border: none;\n",
              "    border-radius: 50%;\n",
              "    cursor: pointer;\n",
              "    display: none;\n",
              "    fill: var(--fill-color);\n",
              "    height: 32px;\n",
              "    padding: 0;\n",
              "    width: 32px;\n",
              "  }\n",
              "\n",
              "  .colab-df-quickchart:hover {\n",
              "    background-color: var(--hover-bg-color);\n",
              "    box-shadow: 0 1px 2px rgba(60, 64, 67, 0.3), 0 1px 3px 1px rgba(60, 64, 67, 0.15);\n",
              "    fill: var(--button-hover-fill-color);\n",
              "  }\n",
              "\n",
              "  .colab-df-quickchart-complete:disabled,\n",
              "  .colab-df-quickchart-complete:disabled:hover {\n",
              "    background-color: var(--disabled-bg-color);\n",
              "    fill: var(--disabled-fill-color);\n",
              "    box-shadow: none;\n",
              "  }\n",
              "\n",
              "  .colab-df-spinner {\n",
              "    border: 2px solid var(--fill-color);\n",
              "    border-color: transparent;\n",
              "    border-bottom-color: var(--fill-color);\n",
              "    animation:\n",
              "      spin 1s steps(1) infinite;\n",
              "  }\n",
              "\n",
              "  @keyframes spin {\n",
              "    0% {\n",
              "      border-color: transparent;\n",
              "      border-bottom-color: var(--fill-color);\n",
              "      border-left-color: var(--fill-color);\n",
              "    }\n",
              "    20% {\n",
              "      border-color: transparent;\n",
              "      border-left-color: var(--fill-color);\n",
              "      border-top-color: var(--fill-color);\n",
              "    }\n",
              "    30% {\n",
              "      border-color: transparent;\n",
              "      border-left-color: var(--fill-color);\n",
              "      border-top-color: var(--fill-color);\n",
              "      border-right-color: var(--fill-color);\n",
              "    }\n",
              "    40% {\n",
              "      border-color: transparent;\n",
              "      border-right-color: var(--fill-color);\n",
              "      border-top-color: var(--fill-color);\n",
              "    }\n",
              "    60% {\n",
              "      border-color: transparent;\n",
              "      border-right-color: var(--fill-color);\n",
              "    }\n",
              "    80% {\n",
              "      border-color: transparent;\n",
              "      border-right-color: var(--fill-color);\n",
              "      border-bottom-color: var(--fill-color);\n",
              "    }\n",
              "    90% {\n",
              "      border-color: transparent;\n",
              "      border-bottom-color: var(--fill-color);\n",
              "    }\n",
              "  }\n",
              "</style>\n",
              "\n",
              "  <script>\n",
              "    async function quickchart(key) {\n",
              "      const quickchartButtonEl =\n",
              "        document.querySelector('#' + key + ' button');\n",
              "      quickchartButtonEl.disabled = true;  // To prevent multiple clicks.\n",
              "      quickchartButtonEl.classList.add('colab-df-spinner');\n",
              "      try {\n",
              "        const charts = await google.colab.kernel.invokeFunction(\n",
              "            'suggestCharts', [key], {});\n",
              "      } catch (error) {\n",
              "        console.error('Error during call to suggestCharts:', error);\n",
              "      }\n",
              "      quickchartButtonEl.classList.remove('colab-df-spinner');\n",
              "      quickchartButtonEl.classList.add('colab-df-quickchart-complete');\n",
              "    }\n",
              "    (() => {\n",
              "      let quickchartButtonEl =\n",
              "        document.querySelector('#df-4e31002e-27e8-44ce-b000-678620b81a57 button');\n",
              "      quickchartButtonEl.style.display =\n",
              "        google.colab.kernel.accessAllowed ? 'block' : 'none';\n",
              "    })();\n",
              "  </script>\n",
              "</div>\n",
              "    </div>\n",
              "  </div>\n"
            ]
          },
          "metadata": {},
          "execution_count": 3
        }
      ],
      "source": [
        "df = pd.read_csv(\"/content/drive/MyDrive/Balanced_BRI_data.csv\")\n",
        "df.head()"
      ]
    },
    {
      "cell_type": "code",
      "execution_count": 4,
      "metadata": {
        "id": "Qy1NFX9EnYv7"
      },
      "outputs": [],
      "source": [
        "df.drop(['Unnamed: 0.2','Unnamed: 0.1','Unnamed: 0'], axis = 1, inplace=True)"
      ]
    },
    {
      "cell_type": "code",
      "source": [
        "df.BRIsentiment.value_counts()"
      ],
      "metadata": {
        "id": "u2lSNBFoHP1A",
        "outputId": "bb725920-1395-4ba6-9780-b1c327eadd41",
        "colab": {
          "base_uri": "https://localhost:8080/"
        }
      },
      "execution_count": 5,
      "outputs": [
        {
          "output_type": "execute_result",
          "data": {
            "text/plain": [
              "Positive    7336\n",
              "Neutral     4332\n",
              "Negative    1669\n",
              "Name: BRIsentiment, dtype: int64"
            ]
          },
          "metadata": {},
          "execution_count": 5
        }
      ]
    },
    {
      "cell_type": "code",
      "execution_count": 6,
      "metadata": {
        "colab": {
          "base_uri": "https://localhost:8080/"
        },
        "id": "_YoOJV90nYv8",
        "outputId": "cc2609c1-e23a-4687-d3e3-6feb849d0683"
      },
      "outputs": [
        {
          "output_type": "execute_result",
          "data": {
            "text/plain": [
              "(13337, 8)"
            ]
          },
          "metadata": {},
          "execution_count": 6
        }
      ],
      "source": [
        "df.shape"
      ]
    },
    {
      "cell_type": "code",
      "execution_count": 7,
      "metadata": {
        "id": "UbWK8AxHnYv9"
      },
      "outputs": [],
      "source": [
        "#import nltk, warnings, string\n",
        "#warnings.filterwarnings('ignore')\n",
        "from sklearn.metrics import confusion_matrix, classification_report, accuracy_score\n",
        "from sklearn.neighbors import KNeighborsClassifier\n",
        "from sklearn.feature_extraction.text import TfidfVectorizer\n",
        "from sklearn.preprocessing import StandardScaler\n",
        "from sklearn.model_selection import train_test_split\n",
        "from sklearn.linear_model import LogisticRegression"
      ]
    },
    {
      "cell_type": "code",
      "source": [
        "text = df.tokenized_text\n",
        "tfidf = TfidfVectorizer()\n",
        "text_feature = tfidf.fit_transform(text)"
      ],
      "metadata": {
        "id": "ASdVLgO1x_IN"
      },
      "execution_count": 8,
      "outputs": []
    },
    {
      "cell_type": "code",
      "execution_count": 9,
      "metadata": {
        "id": "j4PJv_funYv9"
      },
      "outputs": [],
      "source": [
        "x = text_feature.toarray()\n",
        "y = df.BRIsentiment"
      ]
    },
    {
      "cell_type": "code",
      "execution_count": 10,
      "metadata": {
        "id": "c8-JQkuBnYv-"
      },
      "outputs": [],
      "source": [
        "x_train, x_test, y_train, y_test = train_test_split(x,y, test_size=0.3, random_state=23)"
      ]
    },
    {
      "cell_type": "code",
      "source": [
        "len(y)"
      ],
      "metadata": {
        "colab": {
          "base_uri": "https://localhost:8080/"
        },
        "id": "VoMQ62xgvLqX",
        "outputId": "c1207c1c-b91b-4da1-d3a1-54878cc586b7"
      },
      "execution_count": 11,
      "outputs": [
        {
          "output_type": "execute_result",
          "data": {
            "text/plain": [
              "13337"
            ]
          },
          "metadata": {},
          "execution_count": 11
        }
      ]
    },
    {
      "cell_type": "code",
      "execution_count": 12,
      "metadata": {
        "id": "LYhd0tbvnYv_"
      },
      "outputs": [],
      "source": [
        "# Training\n",
        "\n",
        "#knn = KNeighborsClassifier(n_neighbors=43)\n",
        "#knn.fit(x_train, y_train)"
      ]
    },
    {
      "cell_type": "code",
      "source": [
        "# Training Logistic Regression\n",
        "\n",
        "lr = LogisticRegression(max_iter=1000)\n",
        "lr.fit(x_train, y_train)"
      ],
      "metadata": {
        "colab": {
          "base_uri": "https://localhost:8080/",
          "height": 74
        },
        "id": "YWPf7zLQP18G",
        "outputId": "d5410237-80c5-4226-d262-4814f0951f96"
      },
      "execution_count": 13,
      "outputs": [
        {
          "output_type": "execute_result",
          "data": {
            "text/plain": [
              "LogisticRegression(max_iter=1000)"
            ],
            "text/html": [
              "<style>#sk-container-id-1 {color: black;background-color: white;}#sk-container-id-1 pre{padding: 0;}#sk-container-id-1 div.sk-toggleable {background-color: white;}#sk-container-id-1 label.sk-toggleable__label {cursor: pointer;display: block;width: 100%;margin-bottom: 0;padding: 0.3em;box-sizing: border-box;text-align: center;}#sk-container-id-1 label.sk-toggleable__label-arrow:before {content: \"▸\";float: left;margin-right: 0.25em;color: #696969;}#sk-container-id-1 label.sk-toggleable__label-arrow:hover:before {color: black;}#sk-container-id-1 div.sk-estimator:hover label.sk-toggleable__label-arrow:before {color: black;}#sk-container-id-1 div.sk-toggleable__content {max-height: 0;max-width: 0;overflow: hidden;text-align: left;background-color: #f0f8ff;}#sk-container-id-1 div.sk-toggleable__content pre {margin: 0.2em;color: black;border-radius: 0.25em;background-color: #f0f8ff;}#sk-container-id-1 input.sk-toggleable__control:checked~div.sk-toggleable__content {max-height: 200px;max-width: 100%;overflow: auto;}#sk-container-id-1 input.sk-toggleable__control:checked~label.sk-toggleable__label-arrow:before {content: \"▾\";}#sk-container-id-1 div.sk-estimator input.sk-toggleable__control:checked~label.sk-toggleable__label {background-color: #d4ebff;}#sk-container-id-1 div.sk-label input.sk-toggleable__control:checked~label.sk-toggleable__label {background-color: #d4ebff;}#sk-container-id-1 input.sk-hidden--visually {border: 0;clip: rect(1px 1px 1px 1px);clip: rect(1px, 1px, 1px, 1px);height: 1px;margin: -1px;overflow: hidden;padding: 0;position: absolute;width: 1px;}#sk-container-id-1 div.sk-estimator {font-family: monospace;background-color: #f0f8ff;border: 1px dotted black;border-radius: 0.25em;box-sizing: border-box;margin-bottom: 0.5em;}#sk-container-id-1 div.sk-estimator:hover {background-color: #d4ebff;}#sk-container-id-1 div.sk-parallel-item::after {content: \"\";width: 100%;border-bottom: 1px solid gray;flex-grow: 1;}#sk-container-id-1 div.sk-label:hover label.sk-toggleable__label {background-color: #d4ebff;}#sk-container-id-1 div.sk-serial::before {content: \"\";position: absolute;border-left: 1px solid gray;box-sizing: border-box;top: 0;bottom: 0;left: 50%;z-index: 0;}#sk-container-id-1 div.sk-serial {display: flex;flex-direction: column;align-items: center;background-color: white;padding-right: 0.2em;padding-left: 0.2em;position: relative;}#sk-container-id-1 div.sk-item {position: relative;z-index: 1;}#sk-container-id-1 div.sk-parallel {display: flex;align-items: stretch;justify-content: center;background-color: white;position: relative;}#sk-container-id-1 div.sk-item::before, #sk-container-id-1 div.sk-parallel-item::before {content: \"\";position: absolute;border-left: 1px solid gray;box-sizing: border-box;top: 0;bottom: 0;left: 50%;z-index: -1;}#sk-container-id-1 div.sk-parallel-item {display: flex;flex-direction: column;z-index: 1;position: relative;background-color: white;}#sk-container-id-1 div.sk-parallel-item:first-child::after {align-self: flex-end;width: 50%;}#sk-container-id-1 div.sk-parallel-item:last-child::after {align-self: flex-start;width: 50%;}#sk-container-id-1 div.sk-parallel-item:only-child::after {width: 0;}#sk-container-id-1 div.sk-dashed-wrapped {border: 1px dashed gray;margin: 0 0.4em 0.5em 0.4em;box-sizing: border-box;padding-bottom: 0.4em;background-color: white;}#sk-container-id-1 div.sk-label label {font-family: monospace;font-weight: bold;display: inline-block;line-height: 1.2em;}#sk-container-id-1 div.sk-label-container {text-align: center;}#sk-container-id-1 div.sk-container {/* jupyter's `normalize.less` sets `[hidden] { display: none; }` but bootstrap.min.css set `[hidden] { display: none !important; }` so we also need the `!important` here to be able to override the default hidden behavior on the sphinx rendered scikit-learn.org. See: https://github.com/scikit-learn/scikit-learn/issues/21755 */display: inline-block !important;position: relative;}#sk-container-id-1 div.sk-text-repr-fallback {display: none;}</style><div id=\"sk-container-id-1\" class=\"sk-top-container\"><div class=\"sk-text-repr-fallback\"><pre>LogisticRegression(max_iter=1000)</pre><b>In a Jupyter environment, please rerun this cell to show the HTML representation or trust the notebook. <br />On GitHub, the HTML representation is unable to render, please try loading this page with nbviewer.org.</b></div><div class=\"sk-container\" hidden><div class=\"sk-item\"><div class=\"sk-estimator sk-toggleable\"><input class=\"sk-toggleable__control sk-hidden--visually\" id=\"sk-estimator-id-1\" type=\"checkbox\" checked><label for=\"sk-estimator-id-1\" class=\"sk-toggleable__label sk-toggleable__label-arrow\">LogisticRegression</label><div class=\"sk-toggleable__content\"><pre>LogisticRegression(max_iter=1000)</pre></div></div></div></div></div>"
            ]
          },
          "metadata": {},
          "execution_count": 13
        }
      ]
    },
    {
      "cell_type": "code",
      "source": [
        "lr_pred = lr.predict(x_test)\n",
        "\n",
        "print(confusion_matrix(y_test, lr_pred))\n",
        "print(classification_report(y_test, lr_pred))\n",
        "\n",
        "accuracy = accuracy_score(y_test, lr_pred)\n",
        "print(\"Accuracy:\", accuracy)"
      ],
      "metadata": {
        "colab": {
          "base_uri": "https://localhost:8080/"
        },
        "id": "HbHnqfmaSBBw",
        "outputId": "08c9c05a-9ba4-470b-90c8-20fdf9efb8be"
      },
      "execution_count": 14,
      "outputs": [
        {
          "output_type": "stream",
          "name": "stdout",
          "text": [
            "[[  94  163  227]\n",
            " [  39  787  507]\n",
            " [  21  165 1999]]\n",
            "              precision    recall  f1-score   support\n",
            "\n",
            "    Negative       0.61      0.19      0.29       484\n",
            "     Neutral       0.71      0.59      0.64      1333\n",
            "    Positive       0.73      0.91      0.81      2185\n",
            "\n",
            "    accuracy                           0.72      4002\n",
            "   macro avg       0.68      0.57      0.58      4002\n",
            "weighted avg       0.71      0.72      0.69      4002\n",
            "\n",
            "Accuracy: 0.719640179910045\n"
          ]
        }
      ]
    },
    {
      "cell_type": "code",
      "execution_count": 15,
      "metadata": {
        "id": "HROWpj2tnYwA"
      },
      "outputs": [],
      "source": [
        "#knn_pred = knn.predict(x_test)\n",
        "\n",
        "#print(confusion_matrix(y_test, knn_pred))\n",
        "#print(classification_report(y_test, knn_pred))\n",
        "\n",
        "#accuracy = accuracy_score(y_test, knn_pred)\n",
        "#print(\"Accuracy:\", accuracy)"
      ]
    },
    {
      "cell_type": "code",
      "source": [
        "# Naive Bayes\n",
        "#from sklearn.naive_bayes import MultinomialNB\n",
        "\n",
        "#naive_bayes = MultinomialNB()\n",
        "#naive_bayes.fit(x_train, y_train)\n",
        "#naive_pred = naive_bayes.predict(x_test)"
      ],
      "metadata": {
        "id": "N1NW9_0_IZuI"
      },
      "execution_count": 16,
      "outputs": []
    },
    {
      "cell_type": "code",
      "source": [
        "#accuracy = accuracy_score(y_test, naive_pred)\n",
        "#print(\"Accuracy:\", accuracy)"
      ],
      "metadata": {
        "id": "6yv4S2lzvi4P"
      },
      "execution_count": 17,
      "outputs": []
    },
    {
      "cell_type": "code",
      "source": [
        "#import pickle"
      ],
      "metadata": {
        "id": "9M7onE6X72Kf"
      },
      "execution_count": 18,
      "outputs": []
    },
    {
      "cell_type": "code",
      "source": [
        "#pickle_out = open(\"model.pkl\", \"wb\")\n",
        "#pickle.dump( lr, pickle_out)\n",
        "#pickle_out.close()"
      ],
      "metadata": {
        "id": "DtemZ2_Mvu9u"
      },
      "execution_count": 19,
      "outputs": []
    },
    {
      "cell_type": "code",
      "source": [
        "#pickle_out2 = open(\"tfidf.pkl\", \"wb\")\n",
        "#pickle.dump( tfidf, pickle_out2)\n",
        "#pickle_out2.close()"
      ],
      "metadata": {
        "id": "1Kcr8pjf8Auw"
      },
      "execution_count": 20,
      "outputs": []
    },
    {
      "cell_type": "markdown",
      "source": [
        "# **Metrics**"
      ],
      "metadata": {
        "id": "bU5UUPbJYnfW"
      }
    },
    {
      "cell_type": "markdown",
      "source": [
        "**Accuracy**"
      ],
      "metadata": {
        "id": "vXy3qaQ4Y0bf"
      }
    },
    {
      "cell_type": "code",
      "source": [
        "accuracy = accuracy_score(y_test, lr_pred)\n",
        "print(\"Accuracy:\", accuracy)"
      ],
      "metadata": {
        "colab": {
          "base_uri": "https://localhost:8080/"
        },
        "id": "r_0a6OQ6YwkN",
        "outputId": "bc614219-23bc-40d7-cb57-007db754c534"
      },
      "execution_count": 26,
      "outputs": [
        {
          "output_type": "stream",
          "name": "stdout",
          "text": [
            "Accuracy: 0.719640179910045\n"
          ]
        }
      ]
    },
    {
      "cell_type": "markdown",
      "source": [
        "**Precision**"
      ],
      "metadata": {
        "id": "WFArvrEEYqM6"
      }
    },
    {
      "cell_type": "code",
      "source": [
        "from sklearn.metrics import precision_score\n",
        "\n",
        "precision_macro = precision_score(y_test, lr_pred, average='macro')\n",
        "print(\"Macro Precision: \", precision_macro)"
      ],
      "metadata": {
        "id": "ZUBkdDJtD9tj",
        "colab": {
          "base_uri": "https://localhost:8080/"
        },
        "outputId": "d87a84a9-0824-4ae0-d42f-c9775208b74f"
      },
      "execution_count": 23,
      "outputs": [
        {
          "output_type": "stream",
          "name": "stdout",
          "text": [
            "Macro Precision:  0.6825499563593512\n"
          ]
        }
      ]
    },
    {
      "cell_type": "code",
      "source": [
        "precision_micro = precision_score(y_test, lr_pred, average='micro')\n",
        "print(\"Micro Precision: \", precision_micro)"
      ],
      "metadata": {
        "colab": {
          "base_uri": "https://localhost:8080/"
        },
        "id": "HZZofyzFXs7Y",
        "outputId": "e56567ff-6e48-48d5-ee8c-6e437f0f71db"
      },
      "execution_count": 24,
      "outputs": [
        {
          "output_type": "stream",
          "name": "stdout",
          "text": [
            "Micro Precision:  0.719640179910045\n"
          ]
        }
      ]
    },
    {
      "cell_type": "code",
      "source": [
        "precision_weighted = precision_score(y_test, lr_pred, average='weighted')\n",
        "print(\"Weighted Precision: \", precision_weighted)"
      ],
      "metadata": {
        "colab": {
          "base_uri": "https://localhost:8080/"
        },
        "id": "s7jTrxXzYDqB",
        "outputId": "2b27ba25-410c-45e0-90a3-c98296ead8ba"
      },
      "execution_count": 25,
      "outputs": [
        {
          "output_type": "stream",
          "name": "stdout",
          "text": [
            "Weighted Precision:  0.7082647227684463\n"
          ]
        }
      ]
    },
    {
      "cell_type": "markdown",
      "source": [
        "**Recall**"
      ],
      "metadata": {
        "id": "2Yh6lNtdZAIW"
      }
    },
    {
      "cell_type": "code",
      "source": [
        "from sklearn.metrics import recall_score\n",
        "\n",
        "recall_macro = recall_score(y_test, lr_pred, average='macro')\n",
        "print(\"Macro Recall: \", recall_macro)"
      ],
      "metadata": {
        "colab": {
          "base_uri": "https://localhost:8080/"
        },
        "id": "VXmwMsk-YMDF",
        "outputId": "4e06e6ac-bfed-4980-c38d-5732a750ff17"
      },
      "execution_count": 27,
      "outputs": [
        {
          "output_type": "stream",
          "name": "stdout",
          "text": [
            "Macro Recall:  0.5664955391031127\n"
          ]
        }
      ]
    },
    {
      "cell_type": "code",
      "source": [
        "recall_micro = recall_score(y_test, lr_pred, average='micro')\n",
        "print(\"Micro Recall: \", recall_micro)"
      ],
      "metadata": {
        "colab": {
          "base_uri": "https://localhost:8080/"
        },
        "id": "GDYcSRi2ZRJ8",
        "outputId": "1daf920c-eb0f-4537-c5e2-ae30551c8fb7"
      },
      "execution_count": 28,
      "outputs": [
        {
          "output_type": "stream",
          "name": "stdout",
          "text": [
            "Micro Recall:  0.719640179910045\n"
          ]
        }
      ]
    },
    {
      "cell_type": "code",
      "source": [
        "recall_weighted = recall_score(y_test, lr_pred, average='weighted')\n",
        "print(\"Weighted Recall: \", recall_weighted)"
      ],
      "metadata": {
        "colab": {
          "base_uri": "https://localhost:8080/"
        },
        "id": "zRUjEBKHZUYx",
        "outputId": "4891234a-3fe1-4770-93e2-8ad6fcddcc07"
      },
      "execution_count": 33,
      "outputs": [
        {
          "output_type": "stream",
          "name": "stdout",
          "text": [
            "Weighted Recall:  0.719640179910045\n"
          ]
        }
      ]
    },
    {
      "cell_type": "markdown",
      "source": [
        "**F1-Score**"
      ],
      "metadata": {
        "id": "yNzREVmCZ-IO"
      }
    },
    {
      "cell_type": "code",
      "source": [
        "from sklearn.metrics import f1_score\n",
        "\n",
        "f1_macro = f1_score(y_test, lr_pred, average='macro')\n",
        "print(\"Macro f1-score: \", f1_macro)"
      ],
      "metadata": {
        "colab": {
          "base_uri": "https://localhost:8080/"
        },
        "id": "BrhppnYbZy3V",
        "outputId": "a6451dd7-c0f7-41b8-bf3a-6a6730a2478d"
      },
      "execution_count": 34,
      "outputs": [
        {
          "output_type": "stream",
          "name": "stdout",
          "text": [
            "Macro f1-score:  0.583525596272681\n"
          ]
        }
      ]
    },
    {
      "cell_type": "code",
      "source": [
        "f1_micro = f1_score(y_test, lr_pred, average='micro')\n",
        "print(\"Micro f1-score: \", f1_micro)"
      ],
      "metadata": {
        "colab": {
          "base_uri": "https://localhost:8080/"
        },
        "id": "TYzbC2OSbU1_",
        "outputId": "9d6ae956-79b3-45c6-a1a7-1b2a87e0a7ea"
      },
      "execution_count": 36,
      "outputs": [
        {
          "output_type": "stream",
          "name": "stdout",
          "text": [
            "Micro f1-score:  0.719640179910045\n"
          ]
        }
      ]
    },
    {
      "cell_type": "code",
      "source": [
        "f1_weighted = f1_score(y_test, lr_pred, average='weighted')\n",
        "print(\"Weighted f1-score: \", f1_weighted)"
      ],
      "metadata": {
        "colab": {
          "base_uri": "https://localhost:8080/"
        },
        "id": "G0npX5hrabA0",
        "outputId": "8cedf354-e5c3-42a5-81db-b366e6285dad"
      },
      "execution_count": 35,
      "outputs": [
        {
          "output_type": "stream",
          "name": "stdout",
          "text": [
            "Weighted f1-score:  0.6936435403196799\n"
          ]
        }
      ]
    },
    {
      "cell_type": "markdown",
      "source": [
        "**Jaccard's Index**"
      ],
      "metadata": {
        "id": "LZt780BAbbI2"
      }
    },
    {
      "cell_type": "code",
      "source": [
        "from sklearn.metrics import jaccard_score\n",
        "\n",
        "j_macro = jaccard_score(y_test, lr_pred, average='macro')\n",
        "print(\"Macro Jaccard's Index: \", j_macro)"
      ],
      "metadata": {
        "colab": {
          "base_uri": "https://localhost:8080/"
        },
        "id": "0IuA8oS6a-9W",
        "outputId": "dfcba728-1e14-45b9-e81c-4713e6fd6c34"
      },
      "execution_count": 37,
      "outputs": [
        {
          "output_type": "stream",
          "name": "stdout",
          "text": [
            "Macro Jaccard's Index:  0.44380954820579355\n"
          ]
        }
      ]
    },
    {
      "cell_type": "code",
      "source": [
        "j_micro = jaccard_score(y_test, lr_pred, average='micro')\n",
        "print(\"Micro Jaccard's Index: \", j_micro)"
      ],
      "metadata": {
        "colab": {
          "base_uri": "https://localhost:8080/"
        },
        "id": "tGtIXd2FcxVi",
        "outputId": "036924ad-e90c-438b-aaf1-e451fe57cf04"
      },
      "execution_count": 38,
      "outputs": [
        {
          "output_type": "stream",
          "name": "stdout",
          "text": [
            "Micro Jaccard's Index:  0.5620608899297423\n"
          ]
        }
      ]
    },
    {
      "cell_type": "code",
      "source": [
        "j_weighted = jaccard_score(y_test, lr_pred, average='weighted')\n",
        "print(\"Weighted Jaccard's Index: \", j_weighted)"
      ],
      "metadata": {
        "colab": {
          "base_uri": "https://localhost:8080/"
        },
        "id": "HgcNzmsNdW1V",
        "outputId": "1ed4a766-68f5-45a3-8a72-fc934e68b222"
      },
      "execution_count": 39,
      "outputs": [
        {
          "output_type": "stream",
          "name": "stdout",
          "text": [
            "Weighted Jaccard's Index:  0.5526141576187793\n"
          ]
        }
      ]
    },
    {
      "cell_type": "code",
      "source": [],
      "metadata": {
        "id": "esRsMIl3f-RW"
      },
      "execution_count": null,
      "outputs": []
    }
  ],
  "metadata": {
    "kernelspec": {
      "display_name": "Python 3",
      "name": "python3"
    },
    "language_info": {
      "codemirror_mode": {
        "name": "ipython",
        "version": 3
      },
      "file_extension": ".py",
      "mimetype": "text/x-python",
      "name": "python",
      "nbconvert_exporter": "python",
      "pygments_lexer": "ipython3",
      "version": "3.8.17"
    },
    "colab": {
      "provenance": [],
      "gpuType": "T4"
    }
  },
  "nbformat": 4,
  "nbformat_minor": 0
}